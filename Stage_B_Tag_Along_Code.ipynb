{
 "cells": [
  {
   "cell_type": "code",
   "execution_count": 1,
   "id": "e2788b7b",
   "metadata": {},
   "outputs": [],
   "source": [
    "import pandas as pd\n",
    "import seaborn as sb\n",
    "import numpy as np\n",
    "import matplotlib.pyplot as plt"
   ]
  },
  {
   "cell_type": "code",
   "execution_count": 2,
   "id": "e41cc6c7",
   "metadata": {},
   "outputs": [],
   "source": [
    "from sklearn.linear_model import LinearRegression, Lasso, Ridge\n",
    "\n",
    "from sklearn.model_selection import train_test_split\n",
    "\n",
    "from sklearn.preprocessing import MinMaxScaler\n",
    "\n",
    "from sklearn.metrics import mean_absolute_error, mean_squared_error, r2_score"
   ]
  },
  {
   "cell_type": "code",
   "execution_count": 3,
   "id": "75e35527",
   "metadata": {},
   "outputs": [],
   "source": [
    "df = pd.read_csv('energydata.csv')"
   ]
  },
  {
   "cell_type": "code",
   "execution_count": 4,
   "id": "664faded",
   "metadata": {},
   "outputs": [
    {
     "name": "stdout",
     "output_type": "stream",
     "text": [
      "The mean absolute error is: 2.84\n"
     ]
    }
   ],
   "source": [
    "#Question 17:\n",
    "\"\"\"\n",
    "fit a linear model on the relationship between temperature in the living room (x = T2) and \n",
    "temperature outside the building (y = T6)\n",
    "\"\"\"\n",
    "y = df['T6']\n",
    "x = np.array(df['T2']).reshape(-1, 1)\n",
    "\n",
    "#split the data into train and test set\n",
    "#x_train, x_val, y_train, y_val = train_test_split(x, y)\n",
    "\n",
    "#fit the model to the training set\n",
    "linear_reg = LinearRegression()\n",
    "linear_reg.fit(x, y)\n",
    "\n",
    "#predict with model\n",
    "y_pred = linear_reg.predict(x)\n",
    "\n",
    "#evaluate the performance of the model\n",
    "mae = mean_absolute_error(y, y_pred)\n",
    "\n",
    "print('The mean absolute error is: {:.2f}'.format(mae))"
   ]
  },
  {
   "cell_type": "code",
   "execution_count": 5,
   "id": "419f26e2",
   "metadata": {},
   "outputs": [
    {
     "name": "stdout",
     "output_type": "stream",
     "text": [
      "The mean absolute error for training set is: 53.742\n"
     ]
    }
   ],
   "source": [
    "#Question 18\n",
    "\n",
    "#Remove date and light from the dateset\n",
    "df = df.drop(['date', 'lights'], axis = 1)\n",
    "\n",
    "#assign predictors and response\n",
    "df_feature = df.drop('Appliances', axis = 1)\n",
    "\n",
    "target_feature = df['Appliances']\n",
    "\n",
    "#split the dataset into training set and test set\n",
    "x_train, x_val, y_train, y_val = train_test_split(df_feature, target_feature,\n",
    "                                                 test_size = 0.3, random_state = 42)\n",
    "\n",
    "#Normalize the dataset\n",
    "scaler = MinMaxScaler()\n",
    "x_train = pd.DataFrame(scaler.fit_transform(x_train), columns = x_train.columns)\n",
    "x_val = pd.DataFrame(scaler.transform(x_val), columns = x_val.columns)\n",
    "\n",
    "#fit training set to the model\n",
    "linear_reg = LinearRegression()\n",
    "linear_reg.fit(x_train, y_train)\n",
    "\n",
    "#predict the train set\n",
    "y_pred = linear_reg.predict(x_train)\n",
    "\n",
    "#evaluate the performance of the model\n",
    "mae = mean_absolute_error(y_train, y_pred)\n",
    "\n",
    "print('The mean absolute error for training set is: {:.3f}'.format(mae))"
   ]
  },
  {
   "cell_type": "code",
   "execution_count": 6,
   "id": "73aa69ea",
   "metadata": {},
   "outputs": [
    {
     "name": "stdout",
     "output_type": "stream",
     "text": [
      "The root mean square error for training set is: 95.216\n"
     ]
    }
   ],
   "source": [
    "#Question 19\n",
    "\n",
    "#What is the Root Mean Squared Error (in three decimal places) for the training set?\n",
    "rmse = np.sqrt(mean_squared_error(y_train, y_pred))\n",
    "\n",
    "print('The root mean square error for training set is: {:.3f}'.format(rmse))"
   ]
  },
  {
   "cell_type": "code",
   "execution_count": 7,
   "id": "a0e56860",
   "metadata": {},
   "outputs": [
    {
     "name": "stdout",
     "output_type": "stream",
     "text": [
      "The mean absolute error is for test set: 53.643\n"
     ]
    }
   ],
   "source": [
    "#Question 20\n",
    "#What is the Mean Absolute Error (in three decimal places) for test set?\n",
    "\n",
    "#predict the test set\n",
    "y_pred = linear_reg.predict(x_val)\n",
    "\n",
    "#evaluate the performance of the model\n",
    "mae = mean_absolute_error(y_val, y_pred)\n",
    "\n",
    "print('The mean absolute error is for test set: {:.3f}'.format(mae))"
   ]
  },
  {
   "cell_type": "code",
   "execution_count": 8,
   "id": "d7f6e7e7",
   "metadata": {},
   "outputs": [
    {
     "name": "stdout",
     "output_type": "stream",
     "text": [
      "The root mean square error for test set is: 93.640\n"
     ]
    }
   ],
   "source": [
    "#Question 21\n",
    "#What is the Root Mean Squared Error (in three decimal places) for test set?\n",
    "\n",
    "#predict the test set\n",
    "y_pred = linear_reg.predict(x_val)\n",
    "\n",
    "#evaluate the performance of the model\n",
    "rmse = np.sqrt(mean_squared_error(y_val, y_pred))\n",
    "\n",
    "print('The root mean square error for test set is: {:.3f}'.format(rmse))\n"
   ]
  },
  {
   "cell_type": "markdown",
   "id": "d1c49e65",
   "metadata": {},
   "source": [
    "Question 22\n",
    "\n",
    "Did the Model above overfit to the training set\n",
    "\n",
    "A large difference between training and validation error indicates overfitting\n",
    "\n",
    "MAE on training set = 53.742\n",
    "\n",
    "MAE on test set = 53.643\n",
    "\n",
    "Difference between the errors = 0.099\n",
    "\n",
    "Hence, there's approximately no overfitting.\n"
   ]
  },
  {
   "cell_type": "code",
   "execution_count": 9,
   "id": "69241fcd",
   "metadata": {},
   "outputs": [
    {
     "name": "stdout",
     "output_type": "stream",
     "text": [
      "The root mean square error for test set is: 93.667\n"
     ]
    }
   ],
   "source": [
    "#Question 23\n",
    "#Train a ridge regression model with default parameters.\n",
    "\n",
    "ridge_reg = Ridge(alpha = 0.5)\n",
    "ridge_reg.fit(x_train, y_train)\n",
    "\n",
    "y_pred = ridge_reg.predict(x_val)\n",
    "\n",
    "#evaluate the performance of the model\n",
    "rmse = np.sqrt(mean_squared_error(y_val, y_pred))\n",
    "\n",
    "print('The root mean square error for test set is: {:.3f}'.format(rmse))"
   ]
  },
  {
   "cell_type": "markdown",
   "id": "a0bf8956",
   "metadata": {},
   "source": [
    "Linear Regression RMSE = 93.640\n",
    "\n",
    "Ridge Regression RMSE = 93.667.\n",
    "\n",
    "Error difference = 0.027\n",
    "\n",
    "Approximately, there is no difference between the errors"
   ]
  },
  {
   "cell_type": "code",
   "execution_count": 10,
   "id": "223fc9a9",
   "metadata": {},
   "outputs": [
    {
     "name": "stdout",
     "output_type": "stream",
     "text": [
      "Number of non_zero_weight: 26\n"
     ]
    }
   ],
   "source": [
    "#Question 24:\n",
    "#How many features have non zero features weight from lasso regression\n",
    "\n",
    "lasso_reg = Lasso(alpha = 0.001)\n",
    "\n",
    "#fit the model to the training set\n",
    "lasso_reg.fit(x_train, y_train)\n",
    "\n",
    "#evaluate the feature weights with non zero values\n",
    "weight = lasso_reg.coef_\n",
    "\n",
    "#arrange the weight in dataframe\n",
    "weight_df = pd.DataFrame({'feature_weight':weight,\n",
    "                          \"features\" : x_train.columns}).sort_values(by = 'feature_weight').reset_index()\n",
    "\n",
    "non_zero_weight = weight_df.loc[weight_df['feature_weight'] != 0]\n",
    "\n",
    "print('Number of non_zero_weight: {}'.format(non_zero_weight.shape[0]))"
   ]
  },
  {
   "cell_type": "code",
   "execution_count": 11,
   "id": "5f6cea79",
   "metadata": {},
   "outputs": [
    {
     "name": "stdout",
     "output_type": "stream",
     "text": [
      "The root mean square error for test set is : 93.641\n"
     ]
    }
   ],
   "source": [
    "#Question 25:\n",
    "#What is the new RMSE with the Lasso Regression on the test set?\n",
    "\n",
    "#predict the test set\n",
    "y_pred = lasso_reg.predict(x_val)\n",
    "\n",
    "#evaluate the performance of the Lasso model on test set\n",
    "rmse = np.sqrt(mean_squared_error(y_val, y_pred))\n",
    "\n",
    "print('The root mean square error for test set is : {:.3f}'.format(rmse))\n"
   ]
  },
  {
   "cell_type": "code",
   "execution_count": null,
   "id": "2375dfb1",
   "metadata": {},
   "outputs": [],
   "source": []
  },
  {
   "cell_type": "code",
   "execution_count": null,
   "id": "4ae22ecc",
   "metadata": {},
   "outputs": [],
   "source": []
  }
 ],
 "metadata": {
  "kernelspec": {
   "display_name": "Python 3 (ipykernel)",
   "language": "python",
   "name": "python3"
  },
  "language_info": {
   "codemirror_mode": {
    "name": "ipython",
    "version": 3
   },
   "file_extension": ".py",
   "mimetype": "text/x-python",
   "name": "python",
   "nbconvert_exporter": "python",
   "pygments_lexer": "ipython3",
   "version": "3.10.9"
  }
 },
 "nbformat": 4,
 "nbformat_minor": 5
}
